{
 "cells": [
  {
   "cell_type": "markdown",
   "id": "586e5dd9",
   "metadata": {},
   "source": [
    "# NSW State Archives\n",
    "\n",
    "Current version: [v1.0.0](https://github.com/GLAM-Workbench/nsw-state-archives/releases/tag/v1.0.0)\n",
    "\n",
    "This repository includes Jupyter notebooks for harvesting and analysing data from the NSW State Archives. For more information see the [NSW State Archives](https://glam-workbench.net/nsw-state-archives/) section of the GLAM Workbench.\n",
    "\n",
    "## Notebook topics\n",
    "\n",
    "* [Get details of indexes](get-list-of-indexes.ipynb) – scrapes details of available indexes from the NSW State Archives Subjects A to Z page\n",
    "* [Harvest indexes](harvest-indexes.ipynb) – harvests data from all of NSW State Archives online indexes, saving as a collection of easily downloadable CSV files\n",
    "* [Summarise index details](summarise-index-details.ipynb) – counts the number of rows in each index and calculates the total for the whole repository\n",
    "* [NSW State Archives Index Explorer](index-explorer.ipynb) – visualise the contents of the indexes\n",
    "\n",
    "## Data\n",
    "\n",
    "See [this repository](https://github.com/wragge/srnsw-indexes) for the most recently harvested data from the NSW State Archives Indexes."
   ]
  },
  {
   "cell_type": "markdown",
   "id": "87029427",
   "metadata": {},
   "source": [
    "## Cite as\n",
    "\n",
    "See the GLAM Workbench or [Zenodo](https://doi.org/10.5281/zenodo.3549128) for up-to-date citation details.\n",
    "\n",
    "----\n",
    "\n",
    "This repository is part of the [GLAM Workbench](https://glam-workbench.net/).  "
   ]
  }
 ],
 "metadata": {
  "jupytext": {
   "cell_metadata_filter": "-all"
  },
  "kernelspec": {
   "display_name": "Python 3 (ipykernel)",
   "language": "python",
   "name": "python3"
  }
 },
 "nbformat": 4,
 "nbformat_minor": 5
}
