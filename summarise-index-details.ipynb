{
 "cells": [
  {
   "cell_type": "markdown",
   "metadata": {},
   "source": [
    "# Summarise index details\n",
    "\n",
    "This notebook counts the number of rows in each index and calculates the total for the whole repository. It formats the results in nice HTML and Markdown tables for easy browsing."
   ]
  },
  {
   "cell_type": "code",
   "execution_count": 54,
   "metadata": {},
   "outputs": [],
   "source": [
    "from IPython.display import display, HTML\n",
    "import os\n",
    "from urllib.parse import urljoin\n",
    "import pandas as pd\n",
    "from tabulate import tabulate\n",
    "from slugify import slugify"
   ]
  },
  {
   "cell_type": "markdown",
   "metadata": {},
   "source": [
    "## Add links and totals to the list of indexes"
   ]
  },
  {
   "cell_type": "code",
   "execution_count": 34,
   "metadata": {},
   "outputs": [],
   "source": [
    "# Load the index data\n",
    "df = pd.read_csv('indexes.csv').sort_values(by='title')"
   ]
  },
  {
   "cell_type": "code",
   "execution_count": 58,
   "metadata": {},
   "outputs": [],
   "source": [
    "def make_download_link(title):\n",
    "    '''\n",
    "    Create a link to download the CSV file from GitHub\n",
    "    '''\n",
    "    filename = '{}.csv'.format(slugify(title))\n",
    "    url = urljoin('https://raw.githubusercontent.com/wragge/srnsw-indexes/master/data/', filename)\n",
    "    link = '<a href=\"{}\">CSV file</a>'.format(url)\n",
    "    return link\n",
    "\n",
    "# Create a HTML link to more info about the index\n",
    "df['more_info'] = df['more_info_url'].apply(lambda x: '<a href=\"{}\">More info</a>'.format(x))\n",
    "\n",
    "# Create a HTML link to the index data on the NSWSA site\n",
    "df['web'] = df['url'].apply(lambda x: '<a href=\"{}\">Browse index</a>'.format(x))\n",
    "\n",
    "# Create a HTML link to download the CSV file from GitHub\n",
    "df['download'] = df['title'].apply(lambda x: make_download_link(x))"
   ]
  },
  {
   "cell_type": "code",
   "execution_count": 59,
   "metadata": {},
   "outputs": [],
   "source": [
    "def count_rows(title):\n",
    "    '''\n",
    "    Count the number of rows in a CSV file.\n",
    "    '''\n",
    "    df = pd.read_csv(os.path.join('csv', '{}.csv'.format(slugify(title))), dtype=object)\n",
    "    return df.shape[0]\n",
    "\n",
    "# Add number of rows in the CSV\n",
    "df['rows'] = df['title'].apply(lambda x: count_rows(x))"
   ]
  },
  {
   "cell_type": "code",
   "execution_count": 60,
   "metadata": {},
   "outputs": [
    {
     "data": {
      "text/plain": [
       "1499259"
      ]
     },
     "execution_count": 60,
     "metadata": {},
     "output_type": "execute_result"
    }
   ],
   "source": [
    "# How many rows in the whole repository?\n",
    "df['rows'].sum()"
   ]
  },
  {
   "cell_type": "code",
   "execution_count": 61,
   "metadata": {},
   "outputs": [
    {
     "data": {
      "text/plain": [
       "id                                                              15\n",
       "more_info_url    https://www.records.nsw.gov.au/archives/collec...\n",
       "status                                               Not digitised\n",
       "title                                             Deceased Estates\n",
       "url              https://www.records.nsw.gov.au/searchhits_noco...\n",
       "more_info        <a href=\"https://www.records.nsw.gov.au/archiv...\n",
       "web              <a href=\"https://www.records.nsw.gov.au/search...\n",
       "rows                                                        257524\n",
       "download         <a href=\"https://raw.githubusercontent.com/wra...\n",
       "Name: 29, dtype: object"
      ]
     },
     "execution_count": 61,
     "metadata": {},
     "output_type": "execute_result"
    }
   ],
   "source": [
    "# Which index has the most number of rows?\n",
    "df.loc[df['rows'].idxmax()]"
   ]
  },
  {
   "cell_type": "markdown",
   "metadata": {},
   "source": [
    "## Summarise the results of the harvest"
   ]
  },
  {
   "cell_type": "code",
   "execution_count": 62,
   "metadata": {},
   "outputs": [
    {
     "data": {
      "text/plain": [
       "'Currently: 64 indexes harvested with 1,499,259 rows of data.'"
      ]
     },
     "execution_count": 62,
     "metadata": {},
     "output_type": "execute_result"
    }
   ],
   "source": [
    "'Currently: {} indexes harvested with {:,} rows of data.'.format(df.shape[0], df['rows'].sum())"
   ]
  },
  {
   "cell_type": "markdown",
   "metadata": {},
   "source": [
    "Make a nicely formatted table in both HTML and Markdown."
   ]
  },
  {
   "cell_type": "code",
   "execution_count": 63,
   "metadata": {
    "scrolled": false
   },
   "outputs": [
    {
     "data": {
      "text/html": [
       "<table>\n",
       "<thead>\n",
       "<tr><th>Title                                                       </th><th>Status         </th><th style=\"text-align: right;\">  Number of rows</th><th>Download data                                                                                                                                             </th><th>View at NSWSA                                                                                                                                                                                                                                          </th><th>More info                                                                                                                                                         </th></tr>\n",
       "</thead>\n",
       "<tbody>\n",
       "<tr><td>Assisted Immigrants                                         </td><td>Fully digitised</td><td style=\"text-align: right;\">          191688</td><td><a href=\"https://raw.githubusercontent.com/wragge/srnsw-indexes/master/data/assisted-immigrants.csv\">CSV file</a>                                         </td><td><a href=\"https://www.records.nsw.gov.au/searchhits_nocopy?id=9&Surname=%25&Firstname=&Ship&Year=&Arriving&Remarks=\">Browse index</a>                                                                                                                   </td><td><a href=\"https://www.records.nsw.gov.au/archives/collections-and-research/guides-and-indexes/assisted-immigrants-index\">More info</a>                             </td></tr>\n",
       "<tr><td>Australian Railway Supply Detachment                        </td><td>Fully digitised</td><td style=\"text-align: right;\">              65</td><td><a href=\"https://raw.githubusercontent.com/wragge/srnsw-indexes/master/data/australian-railway-supply-detachment.csv\">CSV file</a>                        </td><td><a href=\"https://www.records.nsw.gov.au/searchhits_nocopy?id=8&surname=%25&firstname=\">Browse index</a>                                                                                                                                                </td><td><a href=\"https://www.records.nsw.gov.au/archives/collections-and-research/guides-and-indexes/australian-railway-supply-detachment\">More info</a>                  </td></tr>\n",
       "<tr><td>Bankruptcy Index                                            </td><td>Not digitised  </td><td style=\"text-align: right;\">           28880</td><td><a href=\"https://raw.githubusercontent.com/wragge/srnsw-indexes/master/data/bankruptcy-index.csv\">CSV file</a>                                            </td><td><a href=\"https://www.records.nsw.gov.au/searchhits_nocopy?id=59&surname=%25&firstname=&date%20of%20trial=&occupation=&date%20of%20sequestration=&business=\">Browse index</a>                                                                           </td><td><a href=\"https://www.records.nsw.gov.au/archives/collections-and-research/guides-and-indexes/bankruptcy-index\">More info</a>                                      </td></tr>\n",
       "<tr><td>Bench of Magistrates cases, 1788-1820                       </td><td>Not digitised  </td><td style=\"text-align: right;\">            4442</td><td><a href=\"https://raw.githubusercontent.com/wragge/srnsw-indexes/master/data/bench-of-magistrates-cases-1788-1820.csv\">CSV file</a>                        </td><td><a href=\"https://www.records.nsw.gov.au/searchhits_nocopy?id=11&surname=%25&firstname=&charge%20or%20nature%20of%20document=&date=\">Browse index</a>                                                                                                   </td><td><a href=\"https://www.records.nsw.gov.au/archives/collections-and-research/guides-and-indexes/bench-magistrates-index\">More info</a>                               </td></tr>\n",
       "<tr><td>Botanic Gardens and Government Domains Employees Index      </td><td>Not digitised  </td><td style=\"text-align: right;\">             916</td><td><a href=\"https://raw.githubusercontent.com/wragge/srnsw-indexes/master/data/botanic-gardens-and-government-domains-employees-index.csv\">CSV file</a>      </td><td><a href=\"https://www.records.nsw.gov.au/searchhits_nocopy?id=91&Surname=%25&First_names=&Date_of_birth=\">Browse index</a>                                                                                                                              </td><td><a href=\"https://www.records.nsw.gov.au/archives/collections-and-research/guides-and-indexes/botanic-gardens-and-government-domains\">More info</a>                </td></tr>\n",
       "<tr><td>Bubonic Plague Index                                        </td><td>Fully digitised</td><td style=\"text-align: right;\">             592</td><td><a href=\"https://raw.githubusercontent.com/wragge/srnsw-indexes/master/data/bubonic-plague-index.csv\">CSV file</a>                                        </td><td><a href=\"https://www.records.nsw.gov.au/searchhits_nocopy?id=90&Surname=%25&First_Names=&Where_Found=&Occupation=\">Browse index</a>                                                                                                                    </td><td><a href=\"https://www.records.nsw.gov.au/archives/collections-and-research/guides-and-indexes/bubonic-plague/indexes\">More info</a>                                </td></tr>\n",
       "<tr><td>CSreLand                                                    </td><td>Not digitised  </td><td style=\"text-align: right;\">           10849</td><td><a href=\"https://raw.githubusercontent.com/wragge/srnsw-indexes/master/data/csreland.csv\">CSV file</a>                                                    </td><td><a href=\"https://www.records.nsw.gov.au/searchhits_nocopy?id=14&surname=%25&firstname=&1stdate=&remarks=\">Browse index</a>                                                                                                                             </td><td><a href=\"https://www.records.nsw.gov.au/archives/collections-and-research/guides-and-indexes/colonial-secretarys-letters-relating-land\">More info</a>             </td></tr>\n",
       "<tr><td>Child Care and Protection                                   </td><td>Not digitised  </td><td style=\"text-align: right;\">           21980</td><td><a href=\"https://raw.githubusercontent.com/wragge/srnsw-indexes/master/data/child-care-and-protection.csv\">CSV file</a>                                   </td><td><a href=\"https://www.records.nsw.gov.au/searchhits_nocopy?id=74&surname=%25&firstname=&committal%20date=&institution&remarks=\">Browse index</a>                                                                                                        </td><td><a href=\"https://www.records.nsw.gov.au/archives/collections-and-research/guides-and-indexes/child-care-and-protection-index\">More info</a>                       </td></tr>\n",
       "<tr><td>Closer Settlement Transfer Registers, NRS 8082              </td><td>Not digitised  </td><td style=\"text-align: right;\">            4957</td><td><a href=\"https://raw.githubusercontent.com/wragge/srnsw-indexes/master/data/closer-settlement-transfer-registers-nrs-8082.csv\">CSV file</a>               </td><td><a href=\"https://www.records.nsw.gov.au/searchhits_nocopy?id=62&surname=%25&firstname=&surname%20of%20transferee=&firstname%20of%20transferee=&name%20of%20estate=&settlement%20purchase%20no=&land%20district=&date%20of%20transfer=\">Browse index</a></td><td><a href=\"https://www.records.nsw.gov.au/archives/collections-and-research/guides-and-indexes/closer-settlement-transfer-registers\">More info</a>                  </td></tr>\n",
       "<tr><td>Closer and Soldier Settlement Transfer Files                </td><td>Not digitised  </td><td style=\"text-align: right;\">            9656</td><td><a href=\"https://raw.githubusercontent.com/wragge/srnsw-indexes/master/data/closer-and-soldier-settlement-transfer-files.csv\">CSV file</a>                </td><td><a href=\"https://www.records.nsw.gov.au/searchhits_nocopy?id=41&surname=%25&firstname=&residence%20of%20owner=&settlement%20purchase%20area=&county=&parish=\">Browse index</a>                                                                         </td><td><a href=\"https://www.records.nsw.gov.au/archives/collections-and-research/guides-and-indexes/closer-settlement-returned-soldiers-transfer\">More info</a>          </td></tr>\n",
       "<tr><td>Colonial Secretary Main series of letters received,1826-1982</td><td>Not digitised  </td><td style=\"text-align: right;\">            7638</td><td><a href=\"https://raw.githubusercontent.com/wragge/srnsw-indexes/master/data/colonial-secretary-main-series-of-letters-received-1826-1982.csv\">CSV file</a></td><td><a href=\"https://www.records.nsw.gov.au/searchhits_nocopy?id=45&year=%25&title=&place=&minister=&church=\">Browse index</a>                                                                                                                             </td><td><a href=\"https://www.records.nsw.gov.au/archives/collections-and-research/guides-and-indexes/colonial-secretarys-main-series-letters\">More info</a>               </td></tr>\n",
       "<tr><td>Convict Index                                               </td><td>Not digitised  </td><td style=\"text-align: right;\">          141854</td><td><a href=\"https://raw.githubusercontent.com/wragge/srnsw-indexes/master/data/convict-index.csv\">CSV file</a>                                               </td><td><a href=\"https://www.records.nsw.gov.au/searchhits_nocopy?id=65&Surname=%25&Firstname=&Alias=&Vessel&Year=&RecordType&Citation=&Remarks=\">Browse index</a>                                                                                             </td><td><a href=\"https://www.records.nsw.gov.au/archives/collections-and-research/guides-and-indexes/convicts-index\">More info</a>                                        </td></tr>\n",
       "<tr><td>Convicts Applications to Marry 1825-51                      </td><td>Not digitised  </td><td style=\"text-align: right;\">            8456</td><td><a href=\"https://raw.githubusercontent.com/wragge/srnsw-indexes/master/data/convicts-applications-to-marry-1825-51.csv\">CSV file</a>                      </td><td><a href=\"https://www.records.nsw.gov.au/searchhits_nocopy?id=68&applicant%20%28male%29=%25&ship%20%28male%29=&applicant%20%28female%29=&ship%20%28female%29=&date%20of%20permission=&place=\">Browse index</a>                                          </td><td><a href=\"https://www.records.nsw.gov.au/archives/collections-and-research/guides-and-indexes/convicts-applications-marry\">More info</a>                           </td></tr>\n",
       "<tr><td>Coroners Inquests 1796-1824                                 </td><td>Not digitised  </td><td style=\"text-align: right;\">             808</td><td><a href=\"https://raw.githubusercontent.com/wragge/srnsw-indexes/master/data/coroners-inquests-1796-1824.csv\">CSV file</a>                                 </td><td><a href=\"https://www.records.nsw.gov.au/searchhits_nocopy?id=61&surname=%25&firstname=&date=&remarks=\">Browse index</a>                                                                                                                                </td><td><a href=\"https://www.records.nsw.gov.au/archives/collections-and-research/guides-and-indexes/coroners-inquests-index\">More info</a>                               </td></tr>\n",
       "<tr><td>Court of Civil Jurisdiction index                           </td><td>Not digitised  </td><td style=\"text-align: right;\">            2876</td><td><a href=\"https://raw.githubusercontent.com/wragge/srnsw-indexes/master/data/court-of-civil-jurisdiction-index.csv\">CSV file</a>                           </td><td><a href=\"https://www.records.nsw.gov.au/searchhits_nocopy?id=42&plaintiff=%25&defendant=&date=\">Browse index</a>                                                                                                                                       </td><td><a href=\"https://www.records.nsw.gov.au/archives/collections-and-research/guides-and-indexes/court-civil-jurisdiction-index\">More info</a>                        </td></tr>\n",
       "<tr><td>Crew (and Passenger) Lists, 1828-1841                       </td><td>Fully digitised</td><td style=\"text-align: right;\">            2560</td><td><a href=\"https://raw.githubusercontent.com/wragge/srnsw-indexes/master/data/crew-and-passenger-lists-1828-1841.csv\">CSV file</a>                          </td><td><a href=\"https://www.records.nsw.gov.au/searchhits_nocopy?id=88&Surname=%25&First_Name=&Status_%2F_Occupation=&Ship\">Browse index</a>                                                                                                                  </td><td><a href=\"https://www.records.nsw.gov.au/archives/collections-and-research/guides-and-indexes/index-crew-and-passengers%2C-1828-1841\">More info</a>                </td></tr>\n",
       "<tr><td>Criminal Court Records index 1788-1833                      </td><td>Not digitised  </td><td style=\"text-align: right;\">            5028</td><td><a href=\"https://raw.githubusercontent.com/wragge/srnsw-indexes/master/data/criminal-court-records-index-1788-1833.csv\">CSV file</a>                      </td><td><a href=\"https://www.records.nsw.gov.au/searchhits_nocopy?id=57&names=%25&offence=&date=\">Browse index</a>                                                                                                                                             </td><td><a href=\"https://www.records.nsw.gov.au/archives/collections-and-research/guides-and-indexes/criminal-court-records-index\">More info</a>                          </td></tr>\n",
       "<tr><td>Criminal Indictments, 1863-1919                             </td><td>Not digitised  </td><td style=\"text-align: right;\">           15701</td><td><a href=\"https://raw.githubusercontent.com/wragge/srnsw-indexes/master/data/criminal-indictments-1863-1919.csv\">CSV file</a>                              </td><td><a href=\"https://www.records.nsw.gov.au/searchhits_nocopy?id=86&Surname=%25&Firstname=&Alias=&Offence=&Where_Tried=&Date_of_Trial=\">Browse index</a>                                                                                                   </td><td><a href=\"https://www.records.nsw.gov.au/archives/collections-and-research/guides-and-indexes/criminal-indictments-index\">More info</a>                            </td></tr>\n",
       "<tr><td>Deceased Estates                                            </td><td>Not digitised  </td><td style=\"text-align: right;\">          257524</td><td><a href=\"https://raw.githubusercontent.com/wragge/srnsw-indexes/master/data/deceased-estates.csv\">CSV file</a>                                            </td><td><a href=\"https://www.records.nsw.gov.au/searchhits_nocopy?id=15&surname=%25&firstname=&locality=&dateofdeath=&datedutypaid=\">Browse index</a>                                                                                                          </td><td><a href=\"https://www.records.nsw.gov.au/archives/collections-and-research/guides-and-indexes/deceased-estates-index\">More info</a>                                </td></tr>\n",
       "<tr><td>Depasturing Licenses                                        </td><td>Not digitised  </td><td style=\"text-align: right;\">            7449</td><td><a href=\"https://raw.githubusercontent.com/wragge/srnsw-indexes/master/data/depasturing-licenses.csv\">CSV file</a>                                        </td><td><a href=\"https://www.records.nsw.gov.au/searchhits_nocopy?id=67&names=%25&offence=&date%20of%20trial=\">Browse index</a>                                                                                                                                </td><td><a href=\"https://www.records.nsw.gov.au/archives/collections-and-research/guides-and-indexes/depasturing-licenses-index\">More info</a>                            </td></tr>\n",
       "<tr><td>Devonshire Street Cemetery Reinterment Index, 1901          </td><td>Not digitised  </td><td style=\"text-align: right;\">            9559</td><td><a href=\"https://raw.githubusercontent.com/wragge/srnsw-indexes/master/data/devonshire-street-cemetery-reinterment-index-1901.csv\">CSV file</a>           </td><td><a href=\"https://www.records.nsw.gov.au/searchhits_nocopy?id=89&Surname=%25&FirstName=&Date_of_Death=&Cemetery_where_reinterred=\">Browse index</a>                                                                                                     </td><td><a href=\"https://www.records.nsw.gov.au/archives/collections-and-research/guides-and-indexes/devonshire-street-cemetery-reinterment-index\">More info</a>          </td></tr>\n",
       "<tr><td>Divorce Index                                               </td><td>Not digitised  </td><td style=\"text-align: right;\">           21239</td><td><a href=\"https://raw.githubusercontent.com/wragge/srnsw-indexes/master/data/divorce-index.csv\">CSV file</a>                                               </td><td><a href=\"https://www.records.nsw.gov.au/searchhits_nocopy?id=16&Year=%25&Petitioner_Surname=&Petitioner_FirstName=&Respondent_Surname=&Respondent_FirstName=\">Browse index</a>                                                                         </td><td><a href=\"https://www.records.nsw.gov.au/archives/collections-and-research/guides-and-indexes/divorce-records-index\">More info</a>                                 </td></tr>\n",
       "<tr><td>Early Convict Index                                         </td><td>Fully digitised</td><td style=\"text-align: right;\">           12933</td><td><a href=\"https://raw.githubusercontent.com/wragge/srnsw-indexes/master/data/early-convict-index.csv\">CSV file</a>                                         </td><td><a href=\"https://www.records.nsw.gov.au/searchhits_nocopy?id=77&surname=%25&firstname=&alias=&tried_at&county&tried%20when&sentence&ship&ship%20page=&remarks=\">Browse index</a>                                                                       </td><td><a href=\"https://www.records.nsw.gov.au/archives/collections-and-research/guides-and-indexes/convict-indents-digitised-index\">More info</a>                       </td></tr>\n",
       "<tr><td>FieldBooks                                                  </td><td>Not digitised  </td><td style=\"text-align: right;\">             813</td><td><a href=\"https://raw.githubusercontent.com/wragge/srnsw-indexes/master/data/fieldbooks.csv\">CSV file</a>                                                  </td><td><a href=\"https://www.records.nsw.gov.au/searchhits_nocopy?id=17&surname=%25&firstname=&locality=\">Browse index</a>                                                                                                                                     </td><td><a href=\"https://www.records.nsw.gov.au/archives/collections-and-research/guides-and-indexes/surveyors-field-books\">More info</a>                                 </td></tr>\n",
       "<tr><td>Government Architect                                        </td><td>Not digitised  </td><td style=\"text-align: right;\">            2373</td><td><a href=\"https://raw.githubusercontent.com/wragge/srnsw-indexes/master/data/government-architect.csv\">CSV file</a>                                        </td><td><a href=\"https://www.records.nsw.gov.au/searchhits_nocopy?id=64&place=%25&description=&date=&remarks=&recordtype\">Browse index</a>                                                                                                                     </td><td><a href=\"https://www.records.nsw.gov.au/archives/collections-and-research/guides-and-indexes/colonial-government-architect-index\">More info</a>                   </td></tr>\n",
       "<tr><td>Government Asylums for the Infirm and Destitute             </td><td>Not digitised  </td><td style=\"text-align: right;\">           10264</td><td><a href=\"https://raw.githubusercontent.com/wragge/srnsw-indexes/master/data/government-asylums-for-the-infirm-and-destitute.csv\">CSV file</a>             </td><td><a href=\"https://www.records.nsw.gov.au/searchhits_nocopy?id=80&Surname=%25&Firstname=&Institution&Date_of_Admission=&Date_of_Discharge=\">Browse index</a>                                                                                             </td><td><a href=\"https://www.records.nsw.gov.au/archives/collections-and-research/guides-and-indexes/infirm-destitute-government-asylums-indexes\">More info</a>           </td></tr>\n",
       "<tr><td>Governor’s Court Case Papers, 1815-1824                     </td><td>Not digitised  </td><td style=\"text-align: right;\">            3789</td><td><a href=\"https://raw.githubusercontent.com/wragge/srnsw-indexes/master/data/governors-court-case-papers-1815-1824.csv\">CSV file</a>                       </td><td><a href=\"https://www.records.nsw.gov.au/searchhits_nocopy?id=76&surname=%25&firstname=&year=&item%20no=&case%20no=&series%20no=\">Browse index</a>                                                                                                      </td><td><a href=\"https://www.records.nsw.gov.au/archives/collections-and-research/guides-and-indexes/governors-court-case-papers\">More info</a>                           </td></tr>\n",
       "<tr><td>Index on Occupants on Aboriginal Reserves, 1875 to 1904     </td><td>Not digitised  </td><td style=\"text-align: right;\">              80</td><td><a href=\"https://raw.githubusercontent.com/wragge/srnsw-indexes/master/data/index-on-occupants-on-aboriginal-reserves-1875-to-1904.csv\">CSV file</a>      </td><td><a href=\"https://www.records.nsw.gov.au/searchhits_nocopy?id=47&surname=%25&firstname=&location=\">Browse index</a>                                                                                                                                     </td><td><a href=\"https://www.records.nsw.gov.au/archives/collections-and-research/guides-and-indexes/indigenous-people-the-register-aboriginal\">More info</a>             </td></tr>\n",
       "<tr><td>Index to 1841 Census                                        </td><td>Not digitised  </td><td style=\"text-align: right;\">            9355</td><td><a href=\"https://raw.githubusercontent.com/wragge/srnsw-indexes/master/data/index-to-1841-census.csv\">CSV file</a>                                        </td><td><a href=\"https://www.records.nsw.gov.au/searchhits_nocopy?id=18&surname=%25&firstname=&residence=\">Browse index</a>                                                                                                                                    </td><td><a href=\"https://www.records.nsw.gov.au/archives/collections-and-research/guides-and-indexes/census-1841\">More info</a>                                           </td></tr>\n",
       "<tr><td>Index to Closer Settlement Promotion                        </td><td>Not digitised  </td><td style=\"text-align: right;\">            4354</td><td><a href=\"https://raw.githubusercontent.com/wragge/srnsw-indexes/master/data/index-to-closer-settlement-promotion.csv\">CSV file</a>                        </td><td><a href=\"https://www.records.nsw.gov.au/searchhits_nocopy?id=60&surname=%25&firstname=&vendors%20surname=&vendors%20first%20name=&land%20district=&estate%2Ffarm%20name=&previous%20system%20number=&csp%20no=\">Browse index</a>                       </td><td><a href=\"https://www.records.nsw.gov.au/archives/collections-and-research/guides-and-indexes/closer-settlement-promotion-files-index\">More info</a>               </td></tr>\n",
       "<tr><td>Index to Court of Claims                                    </td><td>Not digitised  </td><td style=\"text-align: right;\">            1051</td><td><a href=\"https://raw.githubusercontent.com/wragge/srnsw-indexes/master/data/index-to-court-of-claims.csv\">CSV file</a>                                    </td><td><a href=\"https://www.records.nsw.gov.au/searchhits_nocopy?id=54&surname=%25&firstname=&first%20possessor%20of%20land=&address=\">Browse index</a>                                                                                                       </td><td><a href=\"https://www.records.nsw.gov.au/archives/collections-and-research/guides-and-indexes/court-claims-land-index\">More info</a>                               </td></tr>\n",
       "<tr><td>Index to Deposition Registers                               </td><td>Not digitised  </td><td style=\"text-align: right;\">           65790</td><td><a href=\"https://raw.githubusercontent.com/wragge/srnsw-indexes/master/data/index-to-deposition-registers.csv\">CSV file</a>                               </td><td><a href=\"https://www.records.nsw.gov.au/searchhits_nocopy?id=40&surname=%25&firstname=&place%20of%20committal=&committed%20for%20trial%20at=&date%20of%20committal=&alleged%20offence=\">Browse index</a>                                               </td><td><a href=\"https://www.records.nsw.gov.au/archives/collections-and-research/guides-and-indexes/criminal-depositions-deposition-books-index\">More info</a>           </td></tr>\n",
       "<tr><td>Index to Early Probate Records                              </td><td>Not digitised  </td><td style=\"text-align: right;\">            1627</td><td><a href=\"https://raw.githubusercontent.com/wragge/srnsw-indexes/master/data/index-to-early-probate-records.csv\">CSV file</a>                              </td><td><a href=\"https://www.records.nsw.gov.au/searchhits_nocopy?id=52&surname=%25&firstname=&date=\">Browse index</a>                                                                                                                                         </td><td><a href=\"https://www.records.nsw.gov.au/archives/collections-and-research/guides-and-indexes/probate-records-supplementary-index\">More info</a>                   </td></tr>\n",
       "<tr><td>Index to Gaol Photographs                                   </td><td>Fully digitised</td><td style=\"text-align: right;\">           48171</td><td><a href=\"https://raw.githubusercontent.com/wragge/srnsw-indexes/master/data/index-to-gaol-photographs.csv\">CSV file</a>                                   </td><td><a href=\"https://www.records.nsw.gov.au/searchhits_nocopy?id=84&surname=%25&firstname=&birthplace=&gaol=&dateofphoto=&photono=&pages=&startdate=&enddate=\">Browse index</a>                                                                            </td><td><a href=\"https://www.records.nsw.gov.au/archives/collections-and-research/guides-and-indexes/gaol-inmates-prisoners-photos-index\">More info</a>                   </td></tr>\n",
       "<tr><td>Index to Intestate Estate Case Papers                       </td><td>Not digitised  </td><td style=\"text-align: right;\">           22520</td><td><a href=\"https://raw.githubusercontent.com/wragge/srnsw-indexes/master/data/index-to-intestate-estate-case-papers.csv\">CSV file</a>                       </td><td><a href=\"https://www.records.nsw.gov.au/searchhits_nocopy?id=53&surname=%25&firstname=&alias=&number=&district=&location=\">Browse index</a>                                                                                                            </td><td><a href=\"https://www.records.nsw.gov.au/archives/collections-and-research/guides-and-indexes/intestate-estates-index\">More info</a>                               </td></tr>\n",
       "<tr><td>Index to Miscellaneous Immigrants                           </td><td>Not digitised  </td><td style=\"text-align: right;\">            8821</td><td><a href=\"https://raw.githubusercontent.com/wragge/srnsw-indexes/master/data/index-to-miscellaneous-immigrants.csv\">CSV file</a>                           </td><td><a href=\"https://www.records.nsw.gov.au/searchhits_nocopy?id=55&surname=%25&firstname=&ship=&date=\">Browse index</a>                                                                                                                                   </td><td><a href=\"https://www.records.nsw.gov.au/archives/collections-and-research/guides-and-indexes/miscellaneous-immigrants-index\">More info</a>                        </td></tr>\n",
       "<tr><td>Index to Quarter Sessions cases, 1824-37                    </td><td>Not digitised  </td><td style=\"text-align: right;\">            6232</td><td><a href=\"https://raw.githubusercontent.com/wragge/srnsw-indexes/master/data/index-to-quarter-sessions-cases-1824-37.csv\">CSV file</a>                     </td><td><a href=\"https://www.records.nsw.gov.au/searchhits_nocopy?id=25&surname=%25&firstname=&place=\">Browse index</a>                                                                                                                                        </td><td><a href=\"https://www.records.nsw.gov.au/archives/collections-and-research/guides-and-indexes/quarter-sessions-cases\">More info</a>                                </td></tr>\n",
       "<tr><td>Index to Registers of Firms                                 </td><td>Not digitised  </td><td style=\"text-align: right;\">           45683</td><td><a href=\"https://raw.githubusercontent.com/wragge/srnsw-indexes/master/data/index-to-registers-of-firms.csv\">CSV file</a>                                 </td><td><a href=\"https://www.records.nsw.gov.au/searchhits_nocopy?id=48&name%20of%20firm=%25&nature%20of%20business=&place%20of%20business=&person%20carrying%20on%20business=&additional%20people%20in%20business=\">Browse index</a>                          </td><td><a href=\"https://www.records.nsw.gov.au/archives/collections-and-research/guides-and-indexes/business-and-company-records-0\">More info</a>                        </td></tr>\n",
       "<tr><td>Index to Squatters and Graziers                             </td><td>Not digitised  </td><td style=\"text-align: right;\">            9003</td><td><a href=\"https://raw.githubusercontent.com/wragge/srnsw-indexes/master/data/index-to-squatters-and-graziers.csv\">CSV file</a>                             </td><td><a href=\"https://www.records.nsw.gov.au/searchhits_nocopy?id=70&surname=%25&firstname=&station=&date=&description=\">Browse index</a>                                                                                                                   </td><td><a href=\"https://www.records.nsw.gov.au/archives/collections-and-research/guides-and-indexes/squatters-and-graziers-index\">More info</a>                          </td></tr>\n",
       "<tr><td>Index to Vessels Arrived, 1837 - 1925                       </td><td>Not digitised  </td><td style=\"text-align: right;\">          120083</td><td><a href=\"https://raw.githubusercontent.com/wragge/srnsw-indexes/master/data/index-to-vessels-arrived-1837-1925.csv\">CSV file</a>                          </td><td><a href=\"https://www.records.nsw.gov.au/searchhits_nocopy?id=49&ship%20name=%25&year=&month\">Browse index</a>                                                                                                                                          </td><td><a href=\"https://www.records.nsw.gov.au/archives/collections-and-research/guides-and-indexes/vessels-arrived-sydney\">More info</a>                                </td></tr>\n",
       "<tr><td>Index to convict exiles, 1846-50                            </td><td>Not digitised  </td><td style=\"text-align: right;\">            3036</td><td><a href=\"https://raw.githubusercontent.com/wragge/srnsw-indexes/master/data/index-to-convict-exiles-1846-50.csv\">CSV file</a>                             </td><td><a href=\"https://www.records.nsw.gov.au/searchhits_nocopy?id=20&surname=%25&firstname=&ship=&trialshire=&trialcity%2Ftown=&tldistrict=\">Browse index</a>                                                                                               </td><td><a href=\"https://www.records.nsw.gov.au/archives/collections-and-research/guides-and-indexes/convict-exiles-index\">More info</a>                                  </td></tr>\n",
       "<tr><td>Index to the Unassisted Arrivals NSW 1842-1855              </td><td>Not digitised  </td><td style=\"text-align: right;\">          135792</td><td><a href=\"https://raw.githubusercontent.com/wragge/srnsw-indexes/master/data/index-to-the-unassisted-arrivals-nsw-1842-1855.csv\">CSV file</a>              </td><td><a href=\"https://www.records.nsw.gov.au/searchhits_nocopy?id=43&names=%25&ship=&date%20of%20arrival=&origin%20port=\">Browse index</a>                                                                                                                  </td><td><a href=\"https://www.records.nsw.gov.au/archives/collections-and-research/guides-and-indexes/unassisted-immigrants-index\">More info</a>                           </td></tr>\n",
       "<tr><td>Indigenous Colonial Court Cases 1788-1838                   </td><td>Not digitised  </td><td style=\"text-align: right;\">              66</td><td><a href=\"https://raw.githubusercontent.com/wragge/srnsw-indexes/master/data/indigenous-colonial-court-cases-1788-1838.csv\">CSV file</a>                   </td><td><a href=\"https://www.records.nsw.gov.au/searchhits_nocopy?id=1&names=%25&offence=&date%20of%20trial=&where%20tried=\">Browse index</a>                                                                                                                  </td><td><a href=\"https://www.records.nsw.gov.au/archives/collections-and-research/guides-and-indexes/indigenous-colonial-court-cases\">More info</a>                       </td></tr>\n",
       "<tr><td>Insolvency Index                                            </td><td>Not digitised  </td><td style=\"text-align: right;\">           23108</td><td><a href=\"https://raw.githubusercontent.com/wragge/srnsw-indexes/master/data/insolvency-index.csv\">CSV file</a>                                            </td><td><a href=\"https://www.records.nsw.gov.au/searchhits_nocopy?id=10&surname=%25&firstname=&locality=&occupation=&sequestration=&business=\">Browse index</a>                                                                                                </td><td><a href=\"https://www.records.nsw.gov.au/archives/collections-and-research/guides-and-indexes/insolvency-index\">More info</a>                                      </td></tr>\n",
       "<tr><td>King’s and Queen’s Counsel Appointments                     </td><td>Fully digitised</td><td style=\"text-align: right;\">            2083</td><td><a href=\"https://raw.githubusercontent.com/wragge/srnsw-indexes/master/data/kings-and-queens-counsel-appointments.csv\">CSV file</a>                       </td><td><a href=\"https://www.records.nsw.gov.au/searchhits_nocopy?id=83&Surname=%25&Firstname=&Year_appointed_silk=\">Browse index</a>                                                                                                                          </td><td><a href=\"https://www.records.nsw.gov.au/archives/collections-and-research/guides-and-indexes/nsw-king%E2%80%99s-queen%E2%80%99s-counsel-appointment\">More info</a></td></tr>\n",
       "<tr><td>LandGrants                                                  </td><td>Not digitised  </td><td style=\"text-align: right;\">            5627</td><td><a href=\"https://raw.githubusercontent.com/wragge/srnsw-indexes/master/data/landgrants.csv\">CSV file</a>                                                  </td><td><a href=\"https://www.records.nsw.gov.au/searchhits_nocopy?id=78&surname=%25&firstname=&district%2Flocality=&years=\">Browse index</a>                                                                                                                   </td><td><a href=\"https://www.records.nsw.gov.au/archives/collections-and-research/guides-and-indexes/land-grants-and-leases-registers\">More info</a>                      </td></tr>\n",
       "<tr><td>List of Maps and Plans (and Supplement)                     </td><td>Not digitised  </td><td style=\"text-align: right;\">            5455</td><td><a href=\"https://raw.githubusercontent.com/wragge/srnsw-indexes/master/data/list-of-maps-and-plans-and-supplement.csv\">CSV file</a>                       </td><td><a href=\"https://www.records.nsw.gov.au/searchhits_nocopy?id=33&and%20supplement%20%28sa%20item%29=%25&sg%20map=&surname=&area=&description=&date=\">Browse index</a>                                                                                   </td><td><a href=\"https://www.records.nsw.gov.au/archives/collections-and-research/guides-and-indexes/surveyor-generals-crown-plans\">More info</a>                         </td></tr>\n",
       "<tr><td>NSW Chemists and Druggists                                  </td><td>Not digitised  </td><td style=\"text-align: right;\">            2967</td><td><a href=\"https://raw.githubusercontent.com/wragge/srnsw-indexes/master/data/nsw-chemists-and-druggists.csv\">CSV file</a>                                  </td><td><a href=\"https://www.records.nsw.gov.au/searchhits_nocopy?id=72&surname=%25&firstname=&date%20of%20registration=&residence=\">Browse index</a>                                                                                                          </td><td><a href=\"https://www.records.nsw.gov.au/archives/collections-and-research/guides-and-indexes/chemists-druggists-and-pharmacists-index\">More info</a>              </td></tr>\n",
       "<tr><td>NSW Government Employees Granted Military Leave, 1914-1918  </td><td>Not digitised  </td><td style=\"text-align: right;\">           13735</td><td><a href=\"https://raw.githubusercontent.com/wragge/srnsw-indexes/master/data/nsw-government-employees-granted-military-leave-1914-1918.csv\">CSV file</a>   </td><td><a href=\"https://www.records.nsw.gov.au/searchhits_nocopy?id=82&Surname=%25&Firstname=&Position=&Department=&Branch=&Military_Unit=&Status=&Decorations=&Remarks=\">Browse index</a>                                                                    </td><td><a href=\"https://www.records.nsw.gov.au/archives/collections-and-research/guides-and-indexes/nsw-government-employees-granted-military-leave\">More info</a>       </td></tr>\n",
       "<tr><td>NSW Govt Railways and Tramways - Roll of Honour - 1914-1919 </td><td>Not digitised  </td><td style=\"text-align: right;\">            1214</td><td><a href=\"https://raw.githubusercontent.com/wragge/srnsw-indexes/master/data/nsw-govt-railways-and-tramways-roll-of-honour-1914-1919.csv\">CSV file</a>     </td><td><a href=\"https://www.records.nsw.gov.au/searchhits_nocopy?id=46&surname=%25&firstname=&branch=&military%20unit=\">Browse index</a>                                                                                                                      </td><td><a href=\"https://www.records.nsw.gov.au/archives/collections-and-research/guides-and-indexes/railways-and-tramways-roll-honour\">More info</a>                     </td></tr>\n",
       "<tr><td>Naturalisation                                              </td><td>Not digitised  </td><td style=\"text-align: right;\">            9860</td><td><a href=\"https://raw.githubusercontent.com/wragge/srnsw-indexes/master/data/naturalisation.csv\">CSV file</a>                                              </td><td><a href=\"https://www.records.nsw.gov.au/searchhits_nocopy?id=30&surname=%25&firstname=&nativeplace=&dateofcertificate=\">Browse index</a>                                                                                                               </td><td><a href=\"https://www.records.nsw.gov.au/archives/collections-and-research/guides-and-indexes/naturalization-index\">More info</a>                                  </td></tr>\n",
       "<tr><td>Nominal Roll of the First Railway Section (AIF)             </td><td>Not digitised  </td><td style=\"text-align: right;\">             417</td><td><a href=\"https://raw.githubusercontent.com/wragge/srnsw-indexes/master/data/nominal-roll-of-the-first-railway-section-aif.csv\">CSV file</a>               </td><td><a href=\"https://www.records.nsw.gov.au/searchhits_nocopy?id=7&surname=%25&othernames=&age=&address=\">Browse index</a>                                                                                                                                 </td><td><a href=\"https://www.records.nsw.gov.au/archives/collections-and-research/guides-and-indexes/nominal-roll-the-first-railway-section-aif\">More info</a>            </td></tr>\n",
       "<tr><td>Publicans Licenses                                          </td><td>Not digitised  </td><td style=\"text-align: right;\">           18457</td><td><a href=\"https://raw.githubusercontent.com/wragge/srnsw-indexes/master/data/publicans-licenses.csv\">CSV file</a>                                          </td><td><a href=\"https://www.records.nsw.gov.au/searchhits_nocopy?id=69&surname=%25&firstname=&hotel=&locality=&year=&remarks=\">Browse index</a>                                                                                                               </td><td><a href=\"https://www.records.nsw.gov.au/archives/collections-and-research/guides-and-indexes/publicans-licenses-index\">More info</a>                              </td></tr>\n",
       "<tr><td>Railway Employment Records                                  </td><td>Not digitised  </td><td style=\"text-align: right;\">             763</td><td><a href=\"https://raw.githubusercontent.com/wragge/srnsw-indexes/master/data/railway-employment-records.csv\">CSV file</a>                                  </td><td><a href=\"https://www.records.nsw.gov.au/searchhits_nocopy?id=50&surname=%25&firstname=&first%20position%20listed=&date%20of%20first%20position%20listed=\">Browse index</a>                                                                             </td><td><a href=\"https://www.records.nsw.gov.au/archives/collections-and-research/guides-and-indexes/railway-employment-records\">More info</a>                            </td></tr>\n",
       "<tr><td>Register of Auriferous Leases                               </td><td>Not digitised  </td><td style=\"text-align: right;\">           53076</td><td><a href=\"https://raw.githubusercontent.com/wragge/srnsw-indexes/master/data/register-of-auriferous-leases.csv\">CSV file</a>                               </td><td><a href=\"https://www.records.nsw.gov.au/searchhits_nocopy?id=63&surname=%25&firstname=&company=&location%20of%20lease=&date%20of%20application=&remarks=\">Browse index</a>                                                                             </td><td><a href=\"https://www.records.nsw.gov.au/archives/collections-and-research/guides-and-indexes/gold-auriferous-lease-registers\">More info</a>                       </td></tr>\n",
       "<tr><td>Registers of Nurses                                         </td><td>Not digitised  </td><td style=\"text-align: right;\">           26665</td><td><a href=\"https://raw.githubusercontent.com/wragge/srnsw-indexes/master/data/registers-of-nurses.csv\">CSV file</a>                                         </td><td><a href=\"https://www.records.nsw.gov.au/searchhits_nocopy?id=79&surname=%25&firstname=&type%20of%20nurse=&date%20of%20registration=\">Browse index</a>                                                                                                  </td><td><a href=\"https://www.records.nsw.gov.au/archives/collections-and-research/guides-and-indexes/nurses-index\">More info</a>                                          </td></tr>\n",
       "<tr><td>Registers of Police                                         </td><td>Not digitised  </td><td style=\"text-align: right;\">           11319</td><td><a href=\"https://raw.githubusercontent.com/wragge/srnsw-indexes/master/data/registers-of-police.csv\">CSV file</a>                                         </td><td><a href=\"https://www.records.nsw.gov.au/searchhits_nocopy?id=31&surname=%25&firstname=&nativeof=&dateappointed=\">Browse index</a>                                                                                                                      </td><td><a href=\"https://www.records.nsw.gov.au/archives/collections-and-research/guides-and-indexes/police-service-registers\">More info</a>                              </td></tr>\n",
       "<tr><td>Registers of Settlement Purchases                           </td><td>Not digitised  </td><td style=\"text-align: right;\">            9776</td><td><a href=\"https://raw.githubusercontent.com/wragge/srnsw-indexes/master/data/registers-of-settlement-purchases.csv\">CSV file</a>                           </td><td><a href=\"https://www.records.nsw.gov.au/searchhits_nocopy?id=58&surname=%25&firstname=&land%20district=&date%20of%20selection=\">Browse index</a>                                                                                                       </td><td><a href=\"https://www.records.nsw.gov.au/archives/collections-and-research/guides-and-indexes/soldier-settlement-settlement-purchases-index\">More info</a>         </td></tr>\n",
       "<tr><td>Returned Soldier Settlement Loan Files                      </td><td>Not digitised  </td><td style=\"text-align: right;\">            7642</td><td><a href=\"https://raw.githubusercontent.com/wragge/srnsw-indexes/master/data/returned-soldier-settlement-loan-files.csv\">CSV file</a>                      </td><td><a href=\"https://www.records.nsw.gov.au/searchhits_nocopy?id=75&surname=%25&firstname=&land%20district=\">Browse index</a>                                                                                                                              </td><td><a href=\"https://www.records.nsw.gov.au/archives/collections-and-research/guides-and-indexes/soldier-settlement-loan-files-index\">More info</a>                   </td></tr>\n",
       "<tr><td>Returned Soldiers Settlement Misc files 1916-25             </td><td>Not digitised  </td><td style=\"text-align: right;\">            1050</td><td><a href=\"https://raw.githubusercontent.com/wragge/srnsw-indexes/master/data/returned-soldiers-settlement-misc-files-1916-25.csv\">CSV file</a>             </td><td><a href=\"https://www.records.nsw.gov.au/searchhits_nocopy?id=56&surname=%25&firstname=&class%20of%20holding=&land%20district=\">Browse index</a>                                                                                                        </td><td><a href=\"https://www.records.nsw.gov.au/archives/collections-and-research/guides-and-indexes/soldier-settlement-miscellaneous-files-index\">More info</a>          </td></tr>\n",
       "<tr><td>Schools                                                     </td><td>Not digitised  </td><td style=\"text-align: right;\">           21246</td><td><a href=\"https://raw.githubusercontent.com/wragge/srnsw-indexes/master/data/schools.csv\">CSV file</a>                                                     </td><td><a href=\"https://www.records.nsw.gov.au/searchhits_nocopy?id=32&school=%25&date=&item=&remarks=\">Browse index</a>                                                                                                                                      </td><td><a href=\"https://www.records.nsw.gov.au/archives/collections-and-research/guides-and-indexes/schools-and-related-records\">More info</a>                           </td></tr>\n",
       "<tr><td>Surveyor General - Letters received 1822-55                 </td><td>Not digitised  </td><td style=\"text-align: right;\">             157</td><td><a href=\"https://raw.githubusercontent.com/wragge/srnsw-indexes/master/data/surveyor-general-letters-received-1822-55.csv\">CSV file</a>                   </td><td><a href=\"https://www.records.nsw.gov.au/searchhits_nocopy?id=35&surname=%25&firstname=&locality=\">Browse index</a>                                                                                                                                     </td><td><a href=\"https://www.records.nsw.gov.au/archives/collections-and-research/guides-and-indexes/surveyors-letters\">More info</a>                                     </td></tr>\n",
       "<tr><td>Teachers Rolls                                              </td><td>Not digitised  </td><td style=\"text-align: right;\">           14867</td><td><a href=\"https://raw.githubusercontent.com/wragge/srnsw-indexes/master/data/teachers-rolls.csv\">CSV file</a>                                              </td><td><a href=\"https://www.records.nsw.gov.au/searchhits_nocopy?id=73&surname=%25&firstname=&remarks=\">Browse index</a>                                                                                                                                      </td><td><a href=\"https://www.records.nsw.gov.au/archives/collections-and-research/guides-and-indexes/school-teachers-rolls\">More info</a>                                 </td></tr>\n",
       "<tr><td>Unemployed in Sydney 1866                                   </td><td>Fully digitised</td><td style=\"text-align: right;\">            3222</td><td><a href=\"https://raw.githubusercontent.com/wragge/srnsw-indexes/master/data/unemployed-in-sydney-1866.csv\">CSV file</a>                                   </td><td><a href=\"https://www.records.nsw.gov.au/searchhits_nocopy?id=81&Surname=%25&Firstname=&Residence=&Occupation=\">Browse index</a>                                                                                                                        </td><td><a href=\"https://www.records.nsw.gov.au/archives/collections-and-research/guides-and-indexes/unemployed-sydney\">More info</a>                                     </td></tr>\n",
       "</tbody>\n",
       "</table>"
      ],
      "text/plain": [
       "<IPython.core.display.HTML object>"
      ]
     },
     "metadata": {},
     "output_type": "display_data"
    }
   ],
   "source": [
    "# Select the columns that we want\n",
    "columns = df[['title', 'status', 'rows', 'download', 'web', 'more_info']]\n",
    "\n",
    "# Create a list of headers\n",
    "headers = ['Title', 'Status', 'Number of rows', 'Download data', 'View at NSWSA', 'More info']\n",
    "\n",
    "# Use Tabulate to generate a HTML table\n",
    "display(HTML(tabulate(columns, headers=headers, showindex=False, tablefmt='html')))\n",
    "\n",
    "# Write a GitHub Markdown formatted version of the table to a file\n",
    "with open('indexes.md', 'w') as md_file:\n",
    "    md_file.write(tabulate(columns, headers=headers, showindex=False, tablefmt='github'))"
   ]
  },
  {
   "cell_type": "markdown",
   "metadata": {},
   "source": [
    "----\n",
    "\n",
    "Created by [Tim Sherratt](https://timsherratt.org/).\n",
    "\n",
    "Part of the [GLAM Workbench](https://glam-workbench.github.io/) project."
   ]
  }
 ],
 "metadata": {
  "kernelspec": {
   "display_name": "Python 3",
   "language": "python",
   "name": "python3"
  },
  "language_info": {
   "codemirror_mode": {
    "name": "ipython",
    "version": 3
   },
   "file_extension": ".py",
   "mimetype": "text/x-python",
   "name": "python",
   "nbconvert_exporter": "python",
   "pygments_lexer": "ipython3",
   "version": "3.7.3"
  }
 },
 "nbformat": 4,
 "nbformat_minor": 2
}
